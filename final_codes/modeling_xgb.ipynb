{
 "cells": [
  {
   "cell_type": "code",
   "execution_count": 1,
   "id": "b2bd82d7",
   "metadata": {},
   "outputs": [
    {
     "name": "stdout",
     "output_type": "stream",
     "text": [
      "Python 3.9.7\n"
     ]
    }
   ],
   "source": [
    "!python -V"
   ]
  },
  {
   "cell_type": "code",
   "execution_count": 2,
   "id": "41062d8a",
   "metadata": {},
   "outputs": [],
   "source": [
    "import pandas as pd"
   ]
  },
  {
   "cell_type": "code",
   "execution_count": 3,
   "id": "c984c564",
   "metadata": {},
   "outputs": [],
   "source": [
    "import pickle"
   ]
  },
  {
   "cell_type": "code",
   "execution_count": 4,
   "id": "4add538c",
   "metadata": {},
   "outputs": [],
   "source": [
    "import seaborn as sns\n",
    "import matplotlib.pyplot as plt"
   ]
  },
  {
   "cell_type": "code",
   "execution_count": 5,
   "id": "8b135c2b",
   "metadata": {},
   "outputs": [],
   "source": [
    "from sklearn.feature_extraction import DictVectorizer\n",
    "from sklearn.linear_model import LinearRegression\n",
    "from sklearn.linear_model import Lasso\n",
    "from sklearn.linear_model import Ridge\n",
    "\n",
    "from sklearn.metrics import mean_squared_error"
   ]
  },
  {
   "cell_type": "code",
   "execution_count": 6,
   "id": "1464985f",
   "metadata": {},
   "outputs": [
    {
     "data": {
      "text/plain": [
       "<Experiment: artifact_location='/home/abhishek-wsl/codes/MLops_project/final_codes/mlruns/2', creation_time=1693662607078, experiment_id='2', last_update_time=1693662607078, lifecycle_stage='active', name='nyc-taxi-experiment', tags={}>"
      ]
     },
     "execution_count": 6,
     "metadata": {},
     "output_type": "execute_result"
    }
   ],
   "source": [
    "import mlflow\n",
    "\n",
    "\n",
    "mlflow.set_tracking_uri(\"sqlite:///mlflow.db\")\n",
    "mlflow.set_experiment(\"nyc-taxi-experiment\")"
   ]
  },
  {
   "cell_type": "code",
   "execution_count": 7,
   "id": "f9e6479e",
   "metadata": {},
   "outputs": [],
   "source": [
    "def read_dataframe(filename):\n",
    "    df = pd.read_parquet(filename)\n",
    "\n",
    "    # df.lpep_dropoff_datetime = pd.to_datetime(df.lpep_dropoff_datetime)\n",
    "    # df.lpep_pickup_datetime = pd.to_datetime(df.lpep_pickup_datetime)\n",
    "\n",
    "    df['duration'] = df.lpep_dropoff_datetime - df.lpep_pickup_datetime\n",
    "    df.duration = df.duration.apply(lambda td: td.total_seconds() / 60)\n",
    "\n",
    "    df = df[(df.duration >= 1) & (df.duration <= 60)]\n",
    "\n",
    "    categorical = ['PULocationID', 'DOLocationID']\n",
    "    df[categorical] = df[categorical].astype(str)\n",
    "    \n",
    "    return df"
   ]
  },
  {
   "cell_type": "code",
   "execution_count": 8,
   "id": "8029eba0",
   "metadata": {},
   "outputs": [],
   "source": [
    "df_train = read_dataframe('/home/abhishek-wsl/codes/MLops_project/data/green_tripdata_2022-08.parquet')\n",
    "df_val = read_dataframe('/home/abhishek-wsl/codes/MLops_project/data/test_data/green_tripdata_2022-01.parquet')"
   ]
  },
  {
   "cell_type": "code",
   "execution_count": 9,
   "id": "f6f2f0eb",
   "metadata": {},
   "outputs": [
    {
     "data": {
      "text/plain": [
       "(62354, 59603)"
      ]
     },
     "execution_count": 9,
     "metadata": {},
     "output_type": "execute_result"
    }
   ],
   "source": [
    "len(df_train), len(df_val)"
   ]
  },
  {
   "cell_type": "code",
   "execution_count": 10,
   "id": "951d51ef",
   "metadata": {},
   "outputs": [],
   "source": [
    "df_train['PU_DO'] = df_train['PULocationID'] + '_' + df_train['DOLocationID']\n",
    "df_val['PU_DO'] = df_val['PULocationID'] + '_' + df_val['DOLocationID']"
   ]
  },
  {
   "cell_type": "code",
   "execution_count": 11,
   "id": "c5cbfc25",
   "metadata": {},
   "outputs": [],
   "source": [
    "categorical = ['PU_DO'] #'PULocationID', 'DOLocationID']\n",
    "numerical = ['trip_distance']\n",
    "\n",
    "dv = DictVectorizer()\n",
    "\n",
    "train_dicts = df_train[categorical + numerical].to_dict(orient='records')\n",
    "X_train = dv.fit_transform(train_dicts)\n",
    "\n",
    "val_dicts = df_val[categorical + numerical].to_dict(orient='records')\n",
    "X_val = dv.transform(val_dicts)"
   ]
  },
  {
   "cell_type": "code",
   "execution_count": 12,
   "id": "1e9fb68b",
   "metadata": {},
   "outputs": [],
   "source": [
    "target = 'duration'\n",
    "y_train = df_train[target].values\n",
    "y_val = df_val[target].values"
   ]
  },
  {
   "cell_type": "code",
   "execution_count": 13,
   "id": "429e2394",
   "metadata": {},
   "outputs": [
    {
     "data": {
      "text/plain": [
       "6.755884254920784"
      ]
     },
     "execution_count": 13,
     "metadata": {},
     "output_type": "execute_result"
    }
   ],
   "source": [
    "lr = LinearRegression()\n",
    "lr.fit(X_train, y_train)\n",
    "\n",
    "y_pred = lr.predict(X_val)\n",
    "\n",
    "mean_squared_error(y_val, y_pred, squared=False)"
   ]
  },
  {
   "cell_type": "code",
   "execution_count": 14,
   "id": "22bf6f8b",
   "metadata": {},
   "outputs": [],
   "source": [
    "# with open('models/lin_reg.bin', 'wb') as f_out:\n",
    "#     pickle.dump((dv, lr), f_out)"
   ]
  },
  {
   "cell_type": "code",
   "execution_count": 15,
   "id": "a4999b94",
   "metadata": {},
   "outputs": [],
   "source": [
    "# with mlflow.start_run():\n",
    "\n",
    "#     mlflow.set_tag(\"developer\", \"cristian\")\n",
    "\n",
    "#     mlflow.log_param(\"train-data-path\", \"./data/green_tripdata_2021-01.csv\")\n",
    "#     mlflow.log_param(\"valid-data-path\", \"./data/green_tripdata_2021-02.csv\")\n",
    "\n",
    "#     alpha = 0.1\n",
    "#     mlflow.log_param(\"alpha\", alpha)\n",
    "#     lr = Lasso(alpha)\n",
    "#     lr.fit(X_train, y_train)\n",
    "\n",
    "#     y_pred = lr.predict(X_val)\n",
    "#     rmse = mean_squared_error(y_val, y_pred, squared=False)\n",
    "#     mlflow.log_metric(\"rmse\", rmse)\n",
    "\n",
    "#     mlflow.log_artifact(local_path=\"models/lin_reg.bin\", artifact_path=\"models_pickle\")"
   ]
  },
  {
   "cell_type": "code",
   "execution_count": null,
   "id": "47b0eb9b",
   "metadata": {},
   "outputs": [],
   "source": []
  },
  {
   "cell_type": "code",
   "execution_count": 16,
   "id": "5f56e97b",
   "metadata": {},
   "outputs": [],
   "source": [
    "import xgboost as xgb"
   ]
  },
  {
   "cell_type": "code",
   "execution_count": 17,
   "id": "907dc6a2",
   "metadata": {},
   "outputs": [],
   "source": [
    "from hyperopt import fmin, tpe, hp, STATUS_OK, Trials\n",
    "from hyperopt.pyll import scope"
   ]
  },
  {
   "cell_type": "code",
   "execution_count": 18,
   "id": "091ab328",
   "metadata": {},
   "outputs": [],
   "source": [
    "train = xgb.DMatrix(X_train, label=y_train)\n",
    "valid = xgb.DMatrix(X_val, label=y_val)"
   ]
  },
  {
   "cell_type": "code",
   "execution_count": 19,
   "id": "c2d84b26",
   "metadata": {},
   "outputs": [],
   "source": [
    "# def objective(params):\n",
    "#     with mlflow.start_run():\n",
    "#         mlflow.set_tag(\"model\", \"xgboost\")\n",
    "#         mlflow.log_params(params)\n",
    "#         booster = xgb.train(\n",
    "#             params=params,\n",
    "#             dtrain=train,\n",
    "#             num_boost_round=100,\n",
    "#             evals=[(valid, 'validation')],\n",
    "#             early_stopping_rounds=50\n",
    "#         )\n",
    "#         y_pred = booster.predict(valid)\n",
    "#         rmse = mean_squared_error(y_val, y_pred, squared=False)\n",
    "#         mlflow.log_metric(\"rmse\", rmse)\n",
    "\n",
    "#     return {'loss': rmse, 'status': STATUS_OK}"
   ]
  },
  {
   "cell_type": "code",
   "execution_count": 20,
   "id": "6b1f77f5",
   "metadata": {},
   "outputs": [],
   "source": [
    "# search_space = {\n",
    "#     'max_depth': scope.int(hp.quniform('max_depth', 4, 100, 1)),\n",
    "#     'learning_rate': hp.loguniform('learning_rate', -3, 0),\n",
    "#     'reg_alpha': hp.loguniform('reg_alpha', -5, -1),\n",
    "#     'reg_lambda': hp.loguniform('reg_lambda', -6, -1),\n",
    "#     'min_child_weight': hp.loguniform('min_child_weight', -1, 3),\n",
    "#     'objective': 'reg:linear',\n",
    "#     'seed': 42\n",
    "# }\n",
    "\n",
    "# best_result = fmin(\n",
    "#     fn=objective,\n",
    "#     space=search_space,\n",
    "#     algo=tpe.suggest,\n",
    "#     max_evals=50,\n",
    "#     trials=Trials()\n",
    "# )"
   ]
  },
  {
   "cell_type": "code",
   "execution_count": 21,
   "id": "fc4d5283",
   "metadata": {},
   "outputs": [],
   "source": [
    "# mlflow.xgboost.autolog(disable=True)"
   ]
  },
  {
   "cell_type": "code",
   "execution_count": 22,
   "id": "fda30798",
   "metadata": {},
   "outputs": [
    {
     "name": "stderr",
     "output_type": "stream",
     "text": [
      "2023/09/02 20:59:13 INFO mlflow.utils.autologging_utils: Created MLflow autologging run with ID 'e2aa3b69f91141c28eb04345bb516167', which will track hyperparameters, performance metrics, model artifacts, and lineage information for the current xgboost workflow\n"
     ]
    },
    {
     "name": "stdout",
     "output_type": "stream",
     "text": [
      "[20:59:15] WARNING: ../src/objective/regression_obj.cu:213: reg:linear is now deprecated in favor of reg:squarederror.\n",
      "[0]\tvalidation-rmse:15.12152\n",
      "[1]\tvalidation-rmse:13.85131\n",
      "[2]\tvalidation-rmse:12.72272\n",
      "[3]\tvalidation-rmse:11.72649\n",
      "[4]\tvalidation-rmse:10.84843\n",
      "[5]\tvalidation-rmse:10.07535\n",
      "[6]\tvalidation-rmse:9.40456\n",
      "[7]\tvalidation-rmse:8.81798\n",
      "[8]\tvalidation-rmse:8.31803\n",
      "[9]\tvalidation-rmse:7.88105\n",
      "[10]\tvalidation-rmse:7.51017\n",
      "[11]\tvalidation-rmse:7.19789\n",
      "[12]\tvalidation-rmse:6.93361\n",
      "[13]\tvalidation-rmse:6.71262\n",
      "[14]\tvalidation-rmse:6.52675\n",
      "[15]\tvalidation-rmse:6.37785\n",
      "[16]\tvalidation-rmse:6.25193\n",
      "[17]\tvalidation-rmse:6.14694\n",
      "[18]\tvalidation-rmse:6.06116\n",
      "[19]\tvalidation-rmse:5.99266\n",
      "[20]\tvalidation-rmse:5.93868\n",
      "[21]\tvalidation-rmse:5.89346\n",
      "[22]\tvalidation-rmse:5.85533\n",
      "[23]\tvalidation-rmse:5.82495\n",
      "[24]\tvalidation-rmse:5.80217\n",
      "[25]\tvalidation-rmse:5.78359\n",
      "[26]\tvalidation-rmse:5.76846\n",
      "[27]\tvalidation-rmse:5.75516\n",
      "[28]\tvalidation-rmse:5.74673\n",
      "[29]\tvalidation-rmse:5.73740\n",
      "[30]\tvalidation-rmse:5.73008\n",
      "[31]\tvalidation-rmse:5.72466\n",
      "[32]\tvalidation-rmse:5.72167\n",
      "[33]\tvalidation-rmse:5.71871\n",
      "[34]\tvalidation-rmse:5.71526\n",
      "[35]\tvalidation-rmse:5.71560\n",
      "[36]\tvalidation-rmse:5.71376\n",
      "[37]\tvalidation-rmse:5.71312\n",
      "[38]\tvalidation-rmse:5.71256\n",
      "[39]\tvalidation-rmse:5.71290\n",
      "[40]\tvalidation-rmse:5.71303\n",
      "[41]\tvalidation-rmse:5.71367\n",
      "[42]\tvalidation-rmse:5.71406\n",
      "[43]\tvalidation-rmse:5.71512\n",
      "[44]\tvalidation-rmse:5.71565\n",
      "[45]\tvalidation-rmse:5.71649\n",
      "[46]\tvalidation-rmse:5.71676\n",
      "[47]\tvalidation-rmse:5.71716\n",
      "[48]\tvalidation-rmse:5.71721\n",
      "[49]\tvalidation-rmse:5.71760\n",
      "[50]\tvalidation-rmse:5.71796\n",
      "[51]\tvalidation-rmse:5.71763\n",
      "[52]\tvalidation-rmse:5.71833\n",
      "[53]\tvalidation-rmse:5.71784\n",
      "[54]\tvalidation-rmse:5.71755\n",
      "[55]\tvalidation-rmse:5.71724\n",
      "[56]\tvalidation-rmse:5.71690\n",
      "[57]\tvalidation-rmse:5.71613\n",
      "[58]\tvalidation-rmse:5.71548\n",
      "[59]\tvalidation-rmse:5.71512\n",
      "[60]\tvalidation-rmse:5.71491\n",
      "[61]\tvalidation-rmse:5.71493\n",
      "[62]\tvalidation-rmse:5.71510\n",
      "[63]\tvalidation-rmse:5.71473\n",
      "[64]\tvalidation-rmse:5.71549\n",
      "[65]\tvalidation-rmse:5.71515\n",
      "[66]\tvalidation-rmse:5.71466\n",
      "[67]\tvalidation-rmse:5.71454\n",
      "[68]\tvalidation-rmse:5.71444\n",
      "[69]\tvalidation-rmse:5.71300\n",
      "[70]\tvalidation-rmse:5.71282\n",
      "[71]\tvalidation-rmse:5.71254\n",
      "[72]\tvalidation-rmse:5.71185\n",
      "[73]\tvalidation-rmse:5.71168\n",
      "[74]\tvalidation-rmse:5.71138\n",
      "[75]\tvalidation-rmse:5.71105\n",
      "[76]\tvalidation-rmse:5.71081\n",
      "[77]\tvalidation-rmse:5.71018\n",
      "[78]\tvalidation-rmse:5.70941\n",
      "[79]\tvalidation-rmse:5.70880\n",
      "[80]\tvalidation-rmse:5.70879\n",
      "[81]\tvalidation-rmse:5.70831\n",
      "[82]\tvalidation-rmse:5.70806\n",
      "[83]\tvalidation-rmse:5.70759\n",
      "[84]\tvalidation-rmse:5.70871\n",
      "[85]\tvalidation-rmse:5.70804\n",
      "[86]\tvalidation-rmse:5.70774\n",
      "[87]\tvalidation-rmse:5.70756\n",
      "[88]\tvalidation-rmse:5.70772\n",
      "[89]\tvalidation-rmse:5.70705\n",
      "[90]\tvalidation-rmse:5.70685\n",
      "[91]\tvalidation-rmse:5.70654\n",
      "[92]\tvalidation-rmse:5.70659\n",
      "[93]\tvalidation-rmse:5.70647\n",
      "[94]\tvalidation-rmse:5.70619\n",
      "[95]\tvalidation-rmse:5.70563\n",
      "[96]\tvalidation-rmse:5.70533\n",
      "[97]\tvalidation-rmse:5.70510\n",
      "[98]\tvalidation-rmse:5.70491\n",
      "[99]\tvalidation-rmse:5.70463\n"
     ]
    },
    {
     "name": "stderr",
     "output_type": "stream",
     "text": [
      "2023/09/02 20:59:27 WARNING mlflow.xgboost: Failed to infer model signature: could not sample data to infer model signature: please ensure that autologging is enabled before constructing the dataset.\n"
     ]
    }
   ],
   "source": [
    "\n",
    "best_params = {\n",
    "    'learning_rate': 0.09585355369315604,\n",
    "    'max_depth': 30,\n",
    "    'min_child_weight': 1.060597050922164,\n",
    "    'objective': 'reg:linear',\n",
    "    'reg_alpha': 0.018060244040060163,\n",
    "    'reg_lambda': 0.011658731377413597,\n",
    "    'seed': 42\n",
    "}\n",
    "\n",
    "mlflow.xgboost.autolog()\n",
    "\n",
    "booster = xgb.train(\n",
    "    params=best_params,\n",
    "    dtrain=train,\n",
    "    num_boost_round=100,\n",
    "    evals=[(valid, 'validation')],\n",
    "    early_stopping_rounds=50\n",
    ")\n",
    "\n",
    "#     y_pred = booster.predict(valid)\n",
    "#     rmse = mean_squared_error(y_val, y_pred, squared=False)\n",
    "#     mlflow.log_metric(\"rmse\", rmse)\n",
    "\n",
    "#     with open(\"models/preprocessor.b\", \"wb\") as f_out:\n",
    "#         pickle.dump(dv, f_out)\n",
    "#     mlflow.log_artifact(\"models/preprocessor.b\", artifact_path=\"preprocessor\")\n",
    "\n",
    "#     mlflow.xgboost.log_model(booster, artifact_path=\"models_mlflow\")"
   ]
  },
  {
   "cell_type": "code",
   "execution_count": 23,
   "id": "0e8cd729",
   "metadata": {},
   "outputs": [],
   "source": [
    "# with mlflow.start_run():\n",
    "    \n",
    "#     train = xgb.DMatrix(X_train, label=y_train)\n",
    "#     valid = xgb.DMatrix(X_val, label=y_val)\n",
    "\n",
    "#     best_params = {\n",
    "#         'learning_rate': 0.09585355369315604,\n",
    "#         'max_depth': 30,\n",
    "#         'min_child_weight': 1.060597050922164,\n",
    "#         'objective': 'reg:linear',\n",
    "#         'reg_alpha': 0.018060244040060163,\n",
    "#         'reg_lambda': 0.011658731377413597,\n",
    "#         'seed': 42\n",
    "#     }\n",
    "\n",
    "#     mlflow.log_params(best_params)\n",
    "\n",
    "#     booster = xgb.train(\n",
    "#         params=best_params,\n",
    "#         dtrain=train,\n",
    "#         num_boost_round=1000,\n",
    "#         evals=[(valid, 'validation')],\n",
    "#         early_stopping_rounds=50\n",
    "#     )\n",
    "\n",
    "#     y_pred = booster.predict(valid)\n",
    "#     rmse = mean_squared_error(y_val, y_pred, squared=False)\n",
    "#     mlflow.log_metric(\"rmse\", rmse)\n",
    "\n",
    "#     with open(\"models/preprocessor.b\", \"wb\") as f_out:\n",
    "#         pickle.dump(dv, f_out)\n",
    "#     mlflow.log_artifact(\"models/preprocessor.b\", artifact_path=\"preprocessor\")\n",
    "\n",
    "#     mlflow.xgboost.log_model(booster, artifact_path=\"models_mlflow\")"
   ]
  },
  {
   "cell_type": "code",
   "execution_count": null,
   "id": "c2108f4b",
   "metadata": {},
   "outputs": [],
   "source": []
  },
  {
   "cell_type": "code",
   "execution_count": 24,
   "id": "87614b82",
   "metadata": {},
   "outputs": [],
   "source": [
    "# from sklearn.ensemble import RandomForestRegressor, GradientBoostingRegressor, ExtraTreesRegressor\n",
    "# from sklearn.svm import LinearSVR\n",
    "\n",
    "# mlflow.sklearn.autolog()\n",
    "\n",
    "# for model_class in (RandomForestRegressor, GradientBoostingRegressor, ExtraTreesRegressor, LinearSVR):\n",
    "\n",
    "#     with mlflow.start_run():\n",
    "\n",
    "#         mlflow.log_param(\"train-data-path\", \"./data/green_tripdata_2021-01.csv\")\n",
    "#         mlflow.log_param(\"valid-data-path\", \"./data/green_tripdata_2021-02.csv\")\n",
    "#         mlflow.log_artifact(\"models/preprocessor.b\", artifact_path=\"preprocessor\")\n",
    "\n",
    "#         mlmodel = model_class()\n",
    "#         mlmodel.fit(X_train, y_train)\n",
    "\n",
    "#         y_pred = mlmodel.predict(X_val)\n",
    "#         rmse = mean_squared_error(y_val, y_pred, squared=False)\n",
    "#         mlflow.log_metric(\"rmse\", rmse)\n",
    "        "
   ]
  },
  {
   "cell_type": "code",
   "execution_count": null,
   "id": "6f0813c7",
   "metadata": {},
   "outputs": [],
   "source": []
  },
  {
   "cell_type": "code",
   "execution_count": null,
   "id": "4c489ec5",
   "metadata": {},
   "outputs": [],
   "source": []
  }
 ],
 "metadata": {
  "interpreter": {
   "hash": "0848c9d6c7d415ad6c477ff7ff8e98694d1a4aa96d0deee89244642e6b630036"
  },
  "kernelspec": {
   "display_name": "Python 3 (ipykernel)",
   "language": "python",
   "name": "python3"
  },
  "language_info": {
   "codemirror_mode": {
    "name": "ipython",
    "version": 3
   },
   "file_extension": ".py",
   "mimetype": "text/x-python",
   "name": "python",
   "nbconvert_exporter": "python",
   "pygments_lexer": "ipython3",
   "version": "3.9.7"
  }
 },
 "nbformat": 4,
 "nbformat_minor": 5
}
