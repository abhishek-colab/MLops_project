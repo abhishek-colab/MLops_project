{
 "cells": [
  {
   "cell_type": "code",
   "execution_count": 9,
   "metadata": {},
   "outputs": [],
   "source": [
    "from mlflow.tracking import MlflowClient\n",
    "from mlflow.entities import ViewType"
   ]
  },
  {
   "cell_type": "code",
   "execution_count": 10,
   "metadata": {},
   "outputs": [],
   "source": [
    "MLFLOW_TRACKING_URI = 'sqlite:///mlflow.db'\n",
    "client = MlflowClient(tracking_uri=MLFLOW_TRACKING_URI)\n",
    "#mlflow.search_experiments()\n",
    "# client.list_artifacts(run_id='eff1613c78114ce39c6b0b622b9d294e')"
   ]
  },
  {
   "cell_type": "code",
   "execution_count": 52,
   "metadata": {},
   "outputs": [],
   "source": [
    "# client.create_experiment(name=\"test_modelling_duration\")"
   ]
  },
  {
   "cell_type": "code",
   "execution_count": 53,
   "metadata": {},
   "outputs": [],
   "source": [
    "runs = client.search_runs(\n",
    "    experiment_ids='1',\n",
    "    filter_string = \"metrics.val_rmse<8\",\n",
    "    run_view_type = ViewType.ACTIVE_ONLY,\n",
    "    max_results = 5,\n",
    "    order_by = [\"metrics.val_rmse ASC\"]\n",
    "    )"
   ]
  },
  {
   "cell_type": "code",
   "execution_count": 54,
   "metadata": {},
   "outputs": [
    {
     "name": "stdout",
     "output_type": "stream",
     "text": [
      "run id: 770a01b98a8640e3b863b60032d60b26, rmse: 6.6003\n",
      "run id: 471ceb10785b43ee8c734f96a150d4cb, rmse: 6.6143\n",
      "run id: 619a82cc69064080a2afef57c731362a, rmse: 7.2926\n",
      "run id: eff1613c78114ce39c6b0b622b9d294e, rmse: 7.2926\n",
      "run id: 6c8e7d591b6f495c819c8147cc49c41e, rmse: 7.2926\n"
     ]
    }
   ],
   "source": [
    "for run in runs:\n",
    "    print(f\"run id: {run.info.run_id}, rmse: {run.data.metrics['val_rmse']:.4f}\")"
   ]
  },
  {
   "cell_type": "code",
   "execution_count": 11,
   "metadata": {},
   "outputs": [],
   "source": [
    "import mlflow\n",
    "\n",
    "mlflow.set_tracking_uri(MLFLOW_TRACKING_URI)"
   ]
  },
  {
   "cell_type": "code",
   "execution_count": 7,
   "metadata": {},
   "outputs": [],
   "source": [
    "run_id = \"619a82cc69064080a2afef57c731362a\"\n",
    "model_uri = f\"runs:/{run_id}/model\"\n",
    "mlflow.register_model(model_uri=model_uri, name='modelling_cab_duration')"
   ]
  },
  {
   "cell_type": "code",
   "execution_count": 57,
   "metadata": {},
   "outputs": [
    {
     "data": {
      "text/plain": [
       "'runs:/619a82cc69064080a2afef57c731362a/model'"
      ]
     },
     "execution_count": 57,
     "metadata": {},
     "output_type": "execute_result"
    }
   ],
   "source": [
    "model_uri"
   ]
  },
  {
   "cell_type": "code",
   "execution_count": 58,
   "metadata": {},
   "outputs": [
    {
     "data": {
      "text/plain": [
       "[<RegisteredModel: aliases={}, creation_timestamp=1693741910998, description=('The taxi trip duration predictor, trained on NYC dataset from Aug 2022 to '\n",
       "  'Dec2022\\n'\n",
       "  'Link to the data: '\n",
       "  'https://www.nyc.gov/site/tlc/about/tlc-trip-record-data.page'), last_updated_timestamp=1693753514687, latest_versions=[<ModelVersion: aliases=[], creation_timestamp=1693741911029, current_stage='Production', description='', last_updated_timestamp=1693749638731, name='modelling_cab_duration', run_id='eff1613c78114ce39c6b0b622b9d294e', run_link='', source='/home/abhishek-wsl/codes/MLops_project/final_codes/mlruns/1/eff1613c78114ce39c6b0b622b9d294e/artifacts/lr_spark_final', status='READY', status_message=None, tags={'model': 'linear regression'}, user_id=None, version=1>,\n",
       "  <ModelVersion: aliases=[], creation_timestamp=1693747998495, current_stage='Staging', description='The model version 3 was transitioned to Staging on 2023-09-03 ', last_updated_timestamp=1693750213864, name='modelling_cab_duration', run_id='770a01b98a8640e3b863b60032d60b26', run_link=None, source='/home/abhishek-wsl/codes/MLops_project/final_codes/mlruns/1/770a01b98a8640e3b863b60032d60b26/artifacts/model', status='READY', status_message=None, tags={}, user_id=None, version=3>,\n",
       "  <ModelVersion: aliases=[], creation_timestamp=1693753514687, current_stage='None', description=None, last_updated_timestamp=1693753514687, name='modelling_cab_duration', run_id='619a82cc69064080a2afef57c731362a', run_link=None, source='/home/abhishek-wsl/codes/MLops_project/final_codes/mlruns/1/619a82cc69064080a2afef57c731362a/artifacts/model', status='READY', status_message=None, tags={}, user_id=None, version=4>], name='modelling_cab_duration', tags={}>]"
      ]
     },
     "execution_count": 58,
     "metadata": {},
     "output_type": "execute_result"
    }
   ],
   "source": [
    "mlflow.search_registered_models()"
   ]
  },
  {
   "cell_type": "code",
   "execution_count": 59,
   "metadata": {},
   "outputs": [
    {
     "name": "stdout",
     "output_type": "stream",
     "text": [
      "version: 1, stage: Production\n",
      "version: 3, stage: Staging\n",
      "version: 4, stage: None\n"
     ]
    }
   ],
   "source": [
    "model_name = \"modelling_cab_duration\"\n",
    "latest_versions = client.get_latest_versions(name=model_name)\n",
    "\n",
    "for version in latest_versions:\n",
    "    print(f\"version: {version.version}, stage: {version.current_stage}\")"
   ]
  },
  {
   "cell_type": "code",
   "execution_count": 60,
   "metadata": {},
   "outputs": [
    {
     "data": {
      "text/plain": [
       "[<ModelVersion: aliases=[], creation_timestamp=1693741911029, current_stage='Production', description='', last_updated_timestamp=1693749638731, name='modelling_cab_duration', run_id='eff1613c78114ce39c6b0b622b9d294e', run_link='', source='/home/abhishek-wsl/codes/MLops_project/final_codes/mlruns/1/eff1613c78114ce39c6b0b622b9d294e/artifacts/lr_spark_final', status='READY', status_message=None, tags={'model': 'linear regression'}, user_id=None, version=1>,\n",
       " <ModelVersion: aliases=[], creation_timestamp=1693747998495, current_stage='Staging', description='The model version 3 was transitioned to Staging on 2023-09-03 ', last_updated_timestamp=1693750213864, name='modelling_cab_duration', run_id='770a01b98a8640e3b863b60032d60b26', run_link=None, source='/home/abhishek-wsl/codes/MLops_project/final_codes/mlruns/1/770a01b98a8640e3b863b60032d60b26/artifacts/model', status='READY', status_message=None, tags={}, user_id=None, version=3>,\n",
       " <ModelVersion: aliases=[], creation_timestamp=1693753514687, current_stage='None', description=None, last_updated_timestamp=1693753514687, name='modelling_cab_duration', run_id='619a82cc69064080a2afef57c731362a', run_link=None, source='/home/abhishek-wsl/codes/MLops_project/final_codes/mlruns/1/619a82cc69064080a2afef57c731362a/artifacts/model', status='READY', status_message=None, tags={}, user_id=None, version=4>]"
      ]
     },
     "execution_count": 60,
     "metadata": {},
     "output_type": "execute_result"
    }
   ],
   "source": [
    "latest_versions"
   ]
  },
  {
   "cell_type": "code",
   "execution_count": 61,
   "metadata": {},
   "outputs": [
    {
     "data": {
      "text/plain": [
       "<ModelVersion: aliases=[], creation_timestamp=1693753514687, current_stage='Staging', description=None, last_updated_timestamp=1693753562949, name='modelling_cab_duration', run_id='619a82cc69064080a2afef57c731362a', run_link=None, source='/home/abhishek-wsl/codes/MLops_project/final_codes/mlruns/1/619a82cc69064080a2afef57c731362a/artifacts/model', status='READY', status_message=None, tags={}, user_id=None, version=4>"
      ]
     },
     "execution_count": 61,
     "metadata": {},
     "output_type": "execute_result"
    }
   ],
   "source": [
    "model_version = 4\n",
    "new_stage = 'Staging'\n",
    "\n",
    "client.transition_model_version_stage(\n",
    "    name=model_name,\n",
    "    version=model_version,\n",
    "    stage = new_stage,\n",
    "    archive_existing_versions = False\n",
    ")"
   ]
  },
  {
   "cell_type": "code",
   "execution_count": 62,
   "metadata": {},
   "outputs": [
    {
     "data": {
      "text/plain": [
       "<ModelVersion: aliases=[], creation_timestamp=1693753514687, current_stage='Staging', description='The model version 4 was transitioned to Staging on 2023-09-03 ', last_updated_timestamp=1693753564894, name='modelling_cab_duration', run_id='619a82cc69064080a2afef57c731362a', run_link=None, source='/home/abhishek-wsl/codes/MLops_project/final_codes/mlruns/1/619a82cc69064080a2afef57c731362a/artifacts/model', status='READY', status_message=None, tags={}, user_id=None, version=4>"
      ]
     },
     "execution_count": 62,
     "metadata": {},
     "output_type": "execute_result"
    }
   ],
   "source": [
    "from datetime import datetime\n",
    "\n",
    "date = datetime.today().date()\n",
    "client.update_model_version(\n",
    "    name = model_name,\n",
    "    version = model_version,\n",
    "    description = f\"The model version {model_version} was transitioned to {new_stage} on {date} \"\n",
    ")"
   ]
  },
  {
   "cell_type": "code",
   "execution_count": null,
   "metadata": {},
   "outputs": [],
   "source": []
  },
  {
   "cell_type": "code",
   "execution_count": 12,
   "metadata": {},
   "outputs": [],
   "source": [
    "import pandas as pd\n",
    "from pyspark.sql import SparkSession\n",
    "from pyspark.sql.functions import *\n",
    "from pyspark.ml.feature import  StringIndexer, OneHotEncoder, VectorAssembler\n",
    "from pyspark.ml.regression import RandomForestRegressor, LinearRegression\n",
    "from pyspark.ml import Pipeline, PipelineModel\n",
    "from pyspark.ml.evaluation import RegressionEvaluator\n",
    "import seaborn as sns\n",
    "import matplotlib.pyplot as plt\n",
    "\n",
    "from utils import read_process_df\n",
    "\n",
    "from pyspark_utils.data_prep import prepare_data\n",
    "#from pyspark_utils.train import train_model\n",
    "from pyspark_utils.evaluate import evaluate_model"
   ]
  },
  {
   "cell_type": "code",
   "execution_count": 2,
   "metadata": {},
   "outputs": [
    {
     "name": "stderr",
     "output_type": "stream",
     "text": [
      "your 131072x1 screen size is bogus. expect trouble\n",
      "23/09/03 20:41:25 WARN Utils: Your hostname, Bhaiyu resolves to a loopback address: 127.0.1.1; using 172.17.120.207 instead (on interface eth0)\n",
      "23/09/03 20:41:25 WARN Utils: Set SPARK_LOCAL_IP if you need to bind to another address\n",
      "Setting default log level to \"WARN\".\n",
      "To adjust logging level use sc.setLogLevel(newLevel). For SparkR, use setLogLevel(newLevel).\n",
      "23/09/03 20:41:26 WARN NativeCodeLoader: Unable to load native-hadoop library for your platform... using builtin-java classes where applicable\n",
      "23/09/03 20:41:27 WARN Utils: Service 'SparkUI' could not bind on port 4040. Attempting port 4041.\n"
     ]
    },
    {
     "data": {
      "text/html": [
       "\n",
       "            <div>\n",
       "                <p><b>SparkSession - in-memory</b></p>\n",
       "                \n",
       "        <div>\n",
       "            <p><b>SparkContext</b></p>\n",
       "\n",
       "            <p><a href=\"http://172.17.120.207:4041\">Spark UI</a></p>\n",
       "\n",
       "            <dl>\n",
       "              <dt>Version</dt>\n",
       "                <dd><code>v3.4.1</code></dd>\n",
       "              <dt>Master</dt>\n",
       "                <dd><code>local[*]</code></dd>\n",
       "              <dt>AppName</dt>\n",
       "                <dd><code>test_staged_model</code></dd>\n",
       "            </dl>\n",
       "        </div>\n",
       "        \n",
       "            </div>\n",
       "        "
      ],
      "text/plain": [
       "<pyspark.sql.session.SparkSession at 0x7f949cf44940>"
      ]
     },
     "execution_count": 2,
     "metadata": {},
     "output_type": "execute_result"
    }
   ],
   "source": [
    "spark = SparkSession.builder.appName('test_staged_model').getOrCreate()\n",
    "spark"
   ]
  },
  {
   "cell_type": "code",
   "execution_count": 3,
   "metadata": {},
   "outputs": [],
   "source": [
    "spark.sparkContext.setLogLevel(\"ERROR\")"
   ]
  },
  {
   "cell_type": "code",
   "execution_count": 13,
   "metadata": {},
   "outputs": [
    {
     "name": "stderr",
     "output_type": "stream",
     "text": [
      "2023/09/03 20:44:25 INFO mlflow.spark: 'runs:/619a82cc69064080a2afef57c731362a/indexer' resolved as '/home/abhishek-wsl/codes/MLops_project/final_codes/mlruns/1/619a82cc69064080a2afef57c731362a/artifacts/indexer'\n",
      "2023/09/03 20:44:25 INFO mlflow.spark: URI 'runs:/619a82cc69064080a2afef57c731362a/indexer/sparkml' does not point to the current DFS.\n",
      "2023/09/03 20:44:25 INFO mlflow.spark: File 'runs:/619a82cc69064080a2afef57c731362a/indexer/sparkml' not found on DFS. Will attempt to upload the file.\n"
     ]
    },
    {
     "name": "stdout",
     "output_type": "stream",
     "text": [
      "67613 6\n"
     ]
    },
    {
     "name": "stderr",
     "output_type": "stream",
     "text": [
      "2023/09/03 20:44:27 INFO mlflow.spark: 'runs:/619a82cc69064080a2afef57c731362a/encoder' resolved as '/home/abhishek-wsl/codes/MLops_project/final_codes/mlruns/1/619a82cc69064080a2afef57c731362a/artifacts/encoder'\n",
      "2023/09/03 20:44:27 INFO mlflow.spark: URI 'runs:/619a82cc69064080a2afef57c731362a/encoder/sparkml' does not point to the current DFS.\n",
      "2023/09/03 20:44:27 INFO mlflow.spark: File 'runs:/619a82cc69064080a2afef57c731362a/encoder/sparkml' not found on DFS. Will attempt to upload the file.\n",
      "2023/09/03 20:44:29 INFO mlflow.spark: 'runs:/619a82cc69064080a2afef57c731362a/lr_spark_final' resolved as '/home/abhishek-wsl/codes/MLops_project/final_codes/mlruns/1/619a82cc69064080a2afef57c731362a/artifacts/lr_spark_final'\n",
      "2023/09/03 20:44:29 INFO mlflow.spark: URI 'runs:/619a82cc69064080a2afef57c731362a/lr_spark_final/sparkml' does not point to the current DFS.\n",
      "2023/09/03 20:44:29 INFO mlflow.spark: File 'runs:/619a82cc69064080a2afef57c731362a/lr_spark_final/sparkml' not found on DFS. Will attempt to upload the file.\n"
     ]
    },
    {
     "name": "stdout",
     "output_type": "stream",
     "text": [
      "rmse  : 6.23828615094559\n"
     ]
    }
   ],
   "source": [
    "df_test_processed = read_process_df('/home/abhishek-wsl/codes/MLops_project/data/test_data/green_tripdata_2023-01.parquet',spark)\n",
    "\n",
    "# client.download_artifacts(run_id=run_id, path = 'preprocessors', dst_path='./artifacts/')\n",
    "# si = PipelineModel.load('/home/abhishek-wsl/codes/MLops_project/final_codes/artifacts/preprocessors/encoderindexer_PipelineModel')\n",
    "\n",
    "si = mlflow.spark.load_model(f'runs:/{run_id}/indexer')\n",
    "ohe = mlflow.spark.load_model(f'runs:/{run_id}/encoder')\n",
    "\n",
    "categorical_cols = ['VendorID','pu_hour','pu_weekday','PU_DO']\n",
    "label_col = 'duration'\n",
    "encoded_df_test, _, _ = prepare_data(df_test_processed,categorical_cols,si,ohe,is_test=True)\n",
    " \n",
    "\n",
    "trained_lr_model = f'runs:/{run_id}/lr_spark_final'\n",
    "trained_lr_model = mlflow.spark.load_model(trained_lr_model)\n",
    "_ = evaluate_model(trained_lr_model,encoded_df_test,label_col,metric='rmse')"
   ]
  },
  {
   "cell_type": "markdown",
   "metadata": {},
   "source": [
    "- Test multiple models, compare the time, metrics, etc.,\n",
    "    - then push the suitable model to production"
   ]
  },
  {
   "cell_type": "code",
   "execution_count": 16,
   "metadata": {},
   "outputs": [
    {
     "data": {
      "text/plain": [
       "<ModelVersion: aliases=[], creation_timestamp=1693753514687, current_stage='Production', description='The model version 4 was transitioned to Staging on 2023-09-03 ', last_updated_timestamp=1693754554436, name='modelling_cab_duration', run_id='619a82cc69064080a2afef57c731362a', run_link=None, source='/home/abhishek-wsl/codes/MLops_project/final_codes/mlruns/1/619a82cc69064080a2afef57c731362a/artifacts/model', status='READY', status_message=None, tags={}, user_id=None, version=4>"
      ]
     },
     "execution_count": 16,
     "metadata": {},
     "output_type": "execute_result"
    }
   ],
   "source": [
    "client.transition_model_version_stage(\n",
    "    name = model_name,\n",
    "    version = 4,\n",
    "    stage='Production',\n",
    "    archive_existing_versions = True\n",
    ")"
   ]
  },
  {
   "cell_type": "code",
   "execution_count": null,
   "metadata": {},
   "outputs": [],
   "source": [
    "# from datetime import datetime\n",
    "\n",
    "# date = datetime.today().date()\n",
    "# client.update_model_version(\n",
    "#     name = 'modelling_cab_duration',\n",
    "#     version = 4,\n",
    "#     description = f\"The model version {model_version} was transitioned to {new_stage} on {date} \"\n",
    "# )"
   ]
  }
 ],
 "metadata": {
  "kernelspec": {
   "display_name": "mlops",
   "language": "python",
   "name": "python3"
  },
  "language_info": {
   "codemirror_mode": {
    "name": "ipython",
    "version": 3
   },
   "file_extension": ".py",
   "mimetype": "text/x-python",
   "name": "python",
   "nbconvert_exporter": "python",
   "pygments_lexer": "ipython3",
   "version": "3.9.7"
  },
  "orig_nbformat": 4
 },
 "nbformat": 4,
 "nbformat_minor": 2
}
